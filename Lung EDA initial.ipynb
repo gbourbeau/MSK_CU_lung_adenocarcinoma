{
 "cells": [
  {
   "cell_type": "markdown",
   "id": "b5470319",
   "metadata": {},
   "source": [
    "## Importing data, packages"
   ]
  },
  {
   "cell_type": "code",
   "execution_count": 19,
   "id": "1ef50359",
   "metadata": {},
   "outputs": [],
   "source": [
    "import numpy as np\n",
    "import pandas as pd\n",
    "import scanpy as sc\n",
    "import matplotlib.pyplot as plt\n",
    "import warnings\n",
    "warnings.filterwarnings(\"ignore\")\n",
    "\n",
    "sc.settings.verbosity = 3\n",
    "sc.settings.set_figure_params(dpi=80)\n",
    "%matplotlib inline"
   ]
  },
  {
   "cell_type": "code",
   "execution_count": 7,
   "id": "f344c17b",
   "metadata": {},
   "outputs": [
    {
     "data": {
      "text/plain": [
       "'/Users/gracenbourbeau/Downloads/luad_tcga_pan_can_atlas_2018'"
      ]
     },
     "execution_count": 7,
     "metadata": {},
     "output_type": "execute_result"
    }
   ],
   "source": [
    "import os \n",
    "os.chdir('/Users/gracenbourbeau/Downloads/luad_tcga_pan_can_atlas_2018/')\n",
    "%pwd"
   ]
  },
  {
   "cell_type": "code",
   "execution_count": 9,
   "id": "5ec2450e",
   "metadata": {},
   "outputs": [
    {
     "data": {
      "text/html": [
       "<div>\n",
       "<style scoped>\n",
       "    .dataframe tbody tr th:only-of-type {\n",
       "        vertical-align: middle;\n",
       "    }\n",
       "\n",
       "    .dataframe tbody tr th {\n",
       "        vertical-align: top;\n",
       "    }\n",
       "\n",
       "    .dataframe thead th {\n",
       "        text-align: right;\n",
       "    }\n",
       "</style>\n",
       "<table border=\"1\" class=\"dataframe\">\n",
       "  <thead>\n",
       "    <tr style=\"text-align: right;\">\n",
       "      <th></th>\n",
       "      <th>Hugo_Symbol</th>\n",
       "      <th>Entrez_Gene_Id</th>\n",
       "      <th>TCGA-05-4244-01</th>\n",
       "      <th>TCGA-05-4249-01</th>\n",
       "      <th>TCGA-05-4250-01</th>\n",
       "      <th>TCGA-05-4382-01</th>\n",
       "      <th>TCGA-05-4384-01</th>\n",
       "      <th>TCGA-05-4389-01</th>\n",
       "      <th>TCGA-05-4390-01</th>\n",
       "      <th>TCGA-05-4395-01</th>\n",
       "      <th>...</th>\n",
       "      <th>TCGA-NJ-A4YG-01</th>\n",
       "      <th>TCGA-NJ-A4YI-01</th>\n",
       "      <th>TCGA-NJ-A4YP-01</th>\n",
       "      <th>TCGA-NJ-A4YQ-01</th>\n",
       "      <th>TCGA-NJ-A55A-01</th>\n",
       "      <th>TCGA-NJ-A55O-01</th>\n",
       "      <th>TCGA-NJ-A55R-01</th>\n",
       "      <th>TCGA-NJ-A7XG-01</th>\n",
       "      <th>TCGA-O1-A52J-01</th>\n",
       "      <th>TCGA-S2-AA1A-01</th>\n",
       "    </tr>\n",
       "  </thead>\n",
       "  <tbody>\n",
       "    <tr>\n",
       "      <th>0</th>\n",
       "      <td>NaN</td>\n",
       "      <td>100130426</td>\n",
       "      <td>0.0000</td>\n",
       "      <td>0.0000</td>\n",
       "      <td>0.0000</td>\n",
       "      <td>0.0000</td>\n",
       "      <td>0.0000</td>\n",
       "      <td>0.0000</td>\n",
       "      <td>0.0000</td>\n",
       "      <td>0.0000</td>\n",
       "      <td>...</td>\n",
       "      <td>0.0000</td>\n",
       "      <td>0.0000</td>\n",
       "      <td>0.0000</td>\n",
       "      <td>0.0000</td>\n",
       "      <td>0.0000</td>\n",
       "      <td>0.0000</td>\n",
       "      <td>0.0000</td>\n",
       "      <td>0.0000</td>\n",
       "      <td>0.0000</td>\n",
       "      <td>0.0000</td>\n",
       "    </tr>\n",
       "    <tr>\n",
       "      <th>1</th>\n",
       "      <td>NaN</td>\n",
       "      <td>100133144</td>\n",
       "      <td>10.0113</td>\n",
       "      <td>7.1957</td>\n",
       "      <td>7.2453</td>\n",
       "      <td>11.3311</td>\n",
       "      <td>3.2254</td>\n",
       "      <td>4.0000</td>\n",
       "      <td>7.1084</td>\n",
       "      <td>3.4360</td>\n",
       "      <td>...</td>\n",
       "      <td>11.7148</td>\n",
       "      <td>3.6657</td>\n",
       "      <td>2.3298</td>\n",
       "      <td>16.3214</td>\n",
       "      <td>20.3514</td>\n",
       "      <td>15.5193</td>\n",
       "      <td>8.4195</td>\n",
       "      <td>42.9857</td>\n",
       "      <td>14.0861</td>\n",
       "      <td>20.5338</td>\n",
       "    </tr>\n",
       "    <tr>\n",
       "      <th>2</th>\n",
       "      <td>UBE2Q2P2</td>\n",
       "      <td>100134869</td>\n",
       "      <td>11.2820</td>\n",
       "      <td>12.4436</td>\n",
       "      <td>6.0184</td>\n",
       "      <td>7.5740</td>\n",
       "      <td>3.4942</td>\n",
       "      <td>13.7852</td>\n",
       "      <td>7.5810</td>\n",
       "      <td>12.1335</td>\n",
       "      <td>...</td>\n",
       "      <td>11.9573</td>\n",
       "      <td>9.7617</td>\n",
       "      <td>8.3410</td>\n",
       "      <td>7.5330</td>\n",
       "      <td>17.2393</td>\n",
       "      <td>22.9872</td>\n",
       "      <td>10.3226</td>\n",
       "      <td>81.1128</td>\n",
       "      <td>24.1914</td>\n",
       "      <td>8.9500</td>\n",
       "    </tr>\n",
       "    <tr>\n",
       "      <th>3</th>\n",
       "      <td>HMGB1P1</td>\n",
       "      <td>10357</td>\n",
       "      <td>49.5994</td>\n",
       "      <td>90.5117</td>\n",
       "      <td>49.5366</td>\n",
       "      <td>82.8303</td>\n",
       "      <td>72.5351</td>\n",
       "      <td>66.3658</td>\n",
       "      <td>109.1810</td>\n",
       "      <td>57.0596</td>\n",
       "      <td>...</td>\n",
       "      <td>163.5740</td>\n",
       "      <td>130.7490</td>\n",
       "      <td>101.7400</td>\n",
       "      <td>82.4231</td>\n",
       "      <td>100.4200</td>\n",
       "      <td>100.1870</td>\n",
       "      <td>74.7210</td>\n",
       "      <td>85.3715</td>\n",
       "      <td>61.1388</td>\n",
       "      <td>76.9265</td>\n",
       "    </tr>\n",
       "    <tr>\n",
       "      <th>4</th>\n",
       "      <td>NaN</td>\n",
       "      <td>10431</td>\n",
       "      <td>848.9400</td>\n",
       "      <td>924.0160</td>\n",
       "      <td>1140.6800</td>\n",
       "      <td>807.1730</td>\n",
       "      <td>562.0040</td>\n",
       "      <td>1342.6200</td>\n",
       "      <td>1148.3300</td>\n",
       "      <td>955.9140</td>\n",
       "      <td>...</td>\n",
       "      <td>919.1690</td>\n",
       "      <td>403.4910</td>\n",
       "      <td>918.9530</td>\n",
       "      <td>995.6060</td>\n",
       "      <td>536.7600</td>\n",
       "      <td>873.9790</td>\n",
       "      <td>766.7450</td>\n",
       "      <td>677.7330</td>\n",
       "      <td>1137.3200</td>\n",
       "      <td>565.4330</td>\n",
       "    </tr>\n",
       "  </tbody>\n",
       "</table>\n",
       "<p>5 rows × 512 columns</p>\n",
       "</div>"
      ],
      "text/plain": [
       "  Hugo_Symbol  Entrez_Gene_Id  TCGA-05-4244-01  TCGA-05-4249-01  \\\n",
       "0         NaN       100130426           0.0000           0.0000   \n",
       "1         NaN       100133144          10.0113           7.1957   \n",
       "2    UBE2Q2P2       100134869          11.2820          12.4436   \n",
       "3     HMGB1P1           10357          49.5994          90.5117   \n",
       "4         NaN           10431         848.9400         924.0160   \n",
       "\n",
       "   TCGA-05-4250-01  TCGA-05-4382-01  TCGA-05-4384-01  TCGA-05-4389-01  \\\n",
       "0           0.0000           0.0000           0.0000           0.0000   \n",
       "1           7.2453          11.3311           3.2254           4.0000   \n",
       "2           6.0184           7.5740           3.4942          13.7852   \n",
       "3          49.5366          82.8303          72.5351          66.3658   \n",
       "4        1140.6800         807.1730         562.0040        1342.6200   \n",
       "\n",
       "   TCGA-05-4390-01  TCGA-05-4395-01  ...  TCGA-NJ-A4YG-01  TCGA-NJ-A4YI-01  \\\n",
       "0           0.0000           0.0000  ...           0.0000           0.0000   \n",
       "1           7.1084           3.4360  ...          11.7148           3.6657   \n",
       "2           7.5810          12.1335  ...          11.9573           9.7617   \n",
       "3         109.1810          57.0596  ...         163.5740         130.7490   \n",
       "4        1148.3300         955.9140  ...         919.1690         403.4910   \n",
       "\n",
       "   TCGA-NJ-A4YP-01  TCGA-NJ-A4YQ-01  TCGA-NJ-A55A-01  TCGA-NJ-A55O-01  \\\n",
       "0           0.0000           0.0000           0.0000           0.0000   \n",
       "1           2.3298          16.3214          20.3514          15.5193   \n",
       "2           8.3410           7.5330          17.2393          22.9872   \n",
       "3         101.7400          82.4231         100.4200         100.1870   \n",
       "4         918.9530         995.6060         536.7600         873.9790   \n",
       "\n",
       "   TCGA-NJ-A55R-01  TCGA-NJ-A7XG-01  TCGA-O1-A52J-01  TCGA-S2-AA1A-01  \n",
       "0           0.0000           0.0000           0.0000           0.0000  \n",
       "1           8.4195          42.9857          14.0861          20.5338  \n",
       "2          10.3226          81.1128          24.1914           8.9500  \n",
       "3          74.7210          85.3715          61.1388          76.9265  \n",
       "4         766.7450         677.7330        1137.3200         565.4330  \n",
       "\n",
       "[5 rows x 512 columns]"
      ]
     },
     "execution_count": 9,
     "metadata": {},
     "output_type": "execute_result"
    }
   ],
   "source": [
    "raw_rna_data = pd.read_table(\"data_mrna_seq_v2_rsem.txt\", sep=\"\\t\")\n",
    "raw_rna_data.head()"
   ]
  },
  {
   "cell_type": "markdown",
   "id": "ee108d2c",
   "metadata": {},
   "source": [
    "## Count of genes & sample in mRNA Sequence Data"
   ]
  },
  {
   "cell_type": "code",
   "execution_count": 12,
   "id": "d2c7540d",
   "metadata": {},
   "outputs": [
    {
     "name": "stdout",
     "output_type": "stream",
     "text": [
      "There are 510 samples in total & there are 20531 genes in total.\n"
     ]
    },
    {
     "data": {
      "text/html": [
       "<div>\n",
       "<style scoped>\n",
       "    .dataframe tbody tr th:only-of-type {\n",
       "        vertical-align: middle;\n",
       "    }\n",
       "\n",
       "    .dataframe tbody tr th {\n",
       "        vertical-align: top;\n",
       "    }\n",
       "\n",
       "    .dataframe thead th {\n",
       "        text-align: right;\n",
       "    }\n",
       "</style>\n",
       "<table border=\"1\" class=\"dataframe\">\n",
       "  <thead>\n",
       "    <tr style=\"text-align: right;\">\n",
       "      <th>Entrez_Gene_Id</th>\n",
       "      <th>100130426</th>\n",
       "      <th>100133144</th>\n",
       "      <th>100134869</th>\n",
       "      <th>10357</th>\n",
       "      <th>10431</th>\n",
       "      <th>136542</th>\n",
       "      <th>155060</th>\n",
       "      <th>26823</th>\n",
       "      <th>280660</th>\n",
       "      <th>317712</th>\n",
       "      <th>...</th>\n",
       "      <th>55055</th>\n",
       "      <th>11130</th>\n",
       "      <th>7789</th>\n",
       "      <th>158586</th>\n",
       "      <th>79364</th>\n",
       "      <th>440590</th>\n",
       "      <th>79699</th>\n",
       "      <th>7791</th>\n",
       "      <th>23140</th>\n",
       "      <th>26009</th>\n",
       "    </tr>\n",
       "  </thead>\n",
       "  <tbody>\n",
       "    <tr>\n",
       "      <th>TCGA-05-4244-01</th>\n",
       "      <td>0.0</td>\n",
       "      <td>10.0113</td>\n",
       "      <td>11.2820</td>\n",
       "      <td>49.5994</td>\n",
       "      <td>848.940</td>\n",
       "      <td>0.0</td>\n",
       "      <td>345.2310</td>\n",
       "      <td>1.0472</td>\n",
       "      <td>0.0000</td>\n",
       "      <td>0.0</td>\n",
       "      <td>...</td>\n",
       "      <td>221.164</td>\n",
       "      <td>517.672</td>\n",
       "      <td>39.7940</td>\n",
       "      <td>292.521</td>\n",
       "      <td>959.246</td>\n",
       "      <td>0.6981</td>\n",
       "      <td>1088.050</td>\n",
       "      <td>2837.94</td>\n",
       "      <td>871.28</td>\n",
       "      <td>575.268</td>\n",
       "    </tr>\n",
       "    <tr>\n",
       "      <th>TCGA-05-4249-01</th>\n",
       "      <td>0.0</td>\n",
       "      <td>7.1957</td>\n",
       "      <td>12.4436</td>\n",
       "      <td>90.5117</td>\n",
       "      <td>924.016</td>\n",
       "      <td>0.0</td>\n",
       "      <td>145.2020</td>\n",
       "      <td>1.6098</td>\n",
       "      <td>0.0000</td>\n",
       "      <td>0.0</td>\n",
       "      <td>...</td>\n",
       "      <td>198.589</td>\n",
       "      <td>287.507</td>\n",
       "      <td>62.1376</td>\n",
       "      <td>493.560</td>\n",
       "      <td>1179.330</td>\n",
       "      <td>20.2833</td>\n",
       "      <td>787.506</td>\n",
       "      <td>2351.25</td>\n",
       "      <td>1138.12</td>\n",
       "      <td>690.275</td>\n",
       "    </tr>\n",
       "    <tr>\n",
       "      <th>TCGA-05-4250-01</th>\n",
       "      <td>0.0</td>\n",
       "      <td>7.2453</td>\n",
       "      <td>6.0184</td>\n",
       "      <td>49.5366</td>\n",
       "      <td>1140.680</td>\n",
       "      <td>0.0</td>\n",
       "      <td>51.7284</td>\n",
       "      <td>0.0000</td>\n",
       "      <td>0.0000</td>\n",
       "      <td>0.0</td>\n",
       "      <td>...</td>\n",
       "      <td>520.899</td>\n",
       "      <td>1046.840</td>\n",
       "      <td>60.0182</td>\n",
       "      <td>365.415</td>\n",
       "      <td>843.903</td>\n",
       "      <td>26.5274</td>\n",
       "      <td>475.172</td>\n",
       "      <td>5437.45</td>\n",
       "      <td>1170.52</td>\n",
       "      <td>532.869</td>\n",
       "    </tr>\n",
       "    <tr>\n",
       "      <th>TCGA-05-4382-01</th>\n",
       "      <td>0.0</td>\n",
       "      <td>11.3311</td>\n",
       "      <td>7.5740</td>\n",
       "      <td>82.8303</td>\n",
       "      <td>807.173</td>\n",
       "      <td>0.0</td>\n",
       "      <td>240.0220</td>\n",
       "      <td>0.4786</td>\n",
       "      <td>0.2393</td>\n",
       "      <td>0.0</td>\n",
       "      <td>...</td>\n",
       "      <td>429.630</td>\n",
       "      <td>753.090</td>\n",
       "      <td>40.4424</td>\n",
       "      <td>346.752</td>\n",
       "      <td>946.687</td>\n",
       "      <td>64.8514</td>\n",
       "      <td>908.159</td>\n",
       "      <td>6770.15</td>\n",
       "      <td>1169.24</td>\n",
       "      <td>663.830</td>\n",
       "    </tr>\n",
       "    <tr>\n",
       "      <th>TCGA-05-4384-01</th>\n",
       "      <td>0.0</td>\n",
       "      <td>3.2254</td>\n",
       "      <td>3.4942</td>\n",
       "      <td>72.5351</td>\n",
       "      <td>562.004</td>\n",
       "      <td>0.0</td>\n",
       "      <td>274.2820</td>\n",
       "      <td>0.6109</td>\n",
       "      <td>0.0000</td>\n",
       "      <td>0.0</td>\n",
       "      <td>...</td>\n",
       "      <td>258.302</td>\n",
       "      <td>153.940</td>\n",
       "      <td>80.0244</td>\n",
       "      <td>563.225</td>\n",
       "      <td>1320.710</td>\n",
       "      <td>7.9414</td>\n",
       "      <td>778.864</td>\n",
       "      <td>3341.48</td>\n",
       "      <td>1737.32</td>\n",
       "      <td>723.274</td>\n",
       "    </tr>\n",
       "  </tbody>\n",
       "</table>\n",
       "<p>5 rows × 20531 columns</p>\n",
       "</div>"
      ],
      "text/plain": [
       "Entrez_Gene_Id   100130426  100133144  100134869  10357      10431      \\\n",
       "TCGA-05-4244-01        0.0    10.0113    11.2820    49.5994    848.940   \n",
       "TCGA-05-4249-01        0.0     7.1957    12.4436    90.5117    924.016   \n",
       "TCGA-05-4250-01        0.0     7.2453     6.0184    49.5366   1140.680   \n",
       "TCGA-05-4382-01        0.0    11.3311     7.5740    82.8303    807.173   \n",
       "TCGA-05-4384-01        0.0     3.2254     3.4942    72.5351    562.004   \n",
       "\n",
       "Entrez_Gene_Id   136542     155060     26823      280660     317712     ...  \\\n",
       "TCGA-05-4244-01        0.0   345.2310     1.0472     0.0000        0.0  ...   \n",
       "TCGA-05-4249-01        0.0   145.2020     1.6098     0.0000        0.0  ...   \n",
       "TCGA-05-4250-01        0.0    51.7284     0.0000     0.0000        0.0  ...   \n",
       "TCGA-05-4382-01        0.0   240.0220     0.4786     0.2393        0.0  ...   \n",
       "TCGA-05-4384-01        0.0   274.2820     0.6109     0.0000        0.0  ...   \n",
       "\n",
       "Entrez_Gene_Id   55055      11130      7789       158586     79364      \\\n",
       "TCGA-05-4244-01    221.164    517.672    39.7940    292.521    959.246   \n",
       "TCGA-05-4249-01    198.589    287.507    62.1376    493.560   1179.330   \n",
       "TCGA-05-4250-01    520.899   1046.840    60.0182    365.415    843.903   \n",
       "TCGA-05-4382-01    429.630    753.090    40.4424    346.752    946.687   \n",
       "TCGA-05-4384-01    258.302    153.940    80.0244    563.225   1320.710   \n",
       "\n",
       "Entrez_Gene_Id   440590     79699      7791       23140      26009      \n",
       "TCGA-05-4244-01     0.6981   1088.050    2837.94     871.28    575.268  \n",
       "TCGA-05-4249-01    20.2833    787.506    2351.25    1138.12    690.275  \n",
       "TCGA-05-4250-01    26.5274    475.172    5437.45    1170.52    532.869  \n",
       "TCGA-05-4382-01    64.8514    908.159    6770.15    1169.24    663.830  \n",
       "TCGA-05-4384-01     7.9414    778.864    3341.48    1737.32    723.274  \n",
       "\n",
       "[5 rows x 20531 columns]"
      ]
     },
     "execution_count": 12,
     "metadata": {},
     "output_type": "execute_result"
    }
   ],
   "source": [
    "rna_clean = raw_rna_data.set_index(\"Entrez_Gene_Id\").drop(\"Hugo_Symbol\",axis=1).transpose()\n",
    "print(f\"There are {len(rna_clean)} samples in total & there are {len(rna_clean.columns)} genes in total.\")\n",
    "rna_clean.head()"
   ]
  },
  {
   "cell_type": "markdown",
   "id": "9fe748d8",
   "metadata": {},
   "source": [
    "## Cleaning df from duplicative values, NA values"
   ]
  },
  {
   "cell_type": "code",
   "execution_count": 25,
   "id": "0b20e2d4",
   "metadata": {},
   "outputs": [
    {
     "name": "stdout",
     "output_type": "stream",
     "text": [
      "There are 340 columns with the same value.\n",
      "[317712, 404770, 728045, 100131137, 143501, 9085, 253175, 286828, 653282, 267012]...\n"
     ]
    }
   ],
   "source": [
    "rna_clean.isnull().values.any() #any NA vals?\n",
    "\n",
    "# columns with all the same value\n",
    "unique_counts = rna_clean.nunique()\n",
    "same_value_cols = unique_counts[unique_counts == 1].index.tolist()\n",
    "print(f\"There are {len(same_value_cols)} columns with the same value.\")\n",
    "print(f\"{same_value_cols[0:10]}...\")"
   ]
  },
  {
   "cell_type": "code",
   "execution_count": 26,
   "id": "67c1915a",
   "metadata": {},
   "outputs": [
    {
     "data": {
      "text/html": [
       "<div>\n",
       "<style scoped>\n",
       "    .dataframe tbody tr th:only-of-type {\n",
       "        vertical-align: middle;\n",
       "    }\n",
       "\n",
       "    .dataframe tbody tr th {\n",
       "        vertical-align: top;\n",
       "    }\n",
       "\n",
       "    .dataframe thead th {\n",
       "        text-align: right;\n",
       "    }\n",
       "</style>\n",
       "<table border=\"1\" class=\"dataframe\">\n",
       "  <thead>\n",
       "    <tr style=\"text-align: right;\">\n",
       "      <th>Entrez_Gene_Id</th>\n",
       "      <th>100130426</th>\n",
       "      <th>100133144</th>\n",
       "      <th>100134869</th>\n",
       "      <th>10357</th>\n",
       "      <th>10431</th>\n",
       "      <th>136542</th>\n",
       "      <th>155060</th>\n",
       "      <th>26823</th>\n",
       "      <th>280660</th>\n",
       "      <th>340602</th>\n",
       "      <th>...</th>\n",
       "      <th>55055</th>\n",
       "      <th>11130</th>\n",
       "      <th>7789</th>\n",
       "      <th>158586</th>\n",
       "      <th>79364</th>\n",
       "      <th>440590</th>\n",
       "      <th>79699</th>\n",
       "      <th>7791</th>\n",
       "      <th>23140</th>\n",
       "      <th>26009</th>\n",
       "    </tr>\n",
       "  </thead>\n",
       "  <tbody>\n",
       "    <tr>\n",
       "      <th>TCGA-05-4244-01</th>\n",
       "      <td>0.0</td>\n",
       "      <td>10.0113</td>\n",
       "      <td>11.2820</td>\n",
       "      <td>49.5994</td>\n",
       "      <td>848.940</td>\n",
       "      <td>0.0</td>\n",
       "      <td>345.2310</td>\n",
       "      <td>1.0472</td>\n",
       "      <td>0.0000</td>\n",
       "      <td>0.0000</td>\n",
       "      <td>...</td>\n",
       "      <td>221.164</td>\n",
       "      <td>517.672</td>\n",
       "      <td>39.7940</td>\n",
       "      <td>292.521</td>\n",
       "      <td>959.246</td>\n",
       "      <td>0.6981</td>\n",
       "      <td>1088.050</td>\n",
       "      <td>2837.94</td>\n",
       "      <td>871.28</td>\n",
       "      <td>575.268</td>\n",
       "    </tr>\n",
       "    <tr>\n",
       "      <th>TCGA-05-4249-01</th>\n",
       "      <td>0.0</td>\n",
       "      <td>7.1957</td>\n",
       "      <td>12.4436</td>\n",
       "      <td>90.5117</td>\n",
       "      <td>924.016</td>\n",
       "      <td>0.0</td>\n",
       "      <td>145.2020</td>\n",
       "      <td>1.6098</td>\n",
       "      <td>0.0000</td>\n",
       "      <td>0.0000</td>\n",
       "      <td>...</td>\n",
       "      <td>198.589</td>\n",
       "      <td>287.507</td>\n",
       "      <td>62.1376</td>\n",
       "      <td>493.560</td>\n",
       "      <td>1179.330</td>\n",
       "      <td>20.2833</td>\n",
       "      <td>787.506</td>\n",
       "      <td>2351.25</td>\n",
       "      <td>1138.12</td>\n",
       "      <td>690.275</td>\n",
       "    </tr>\n",
       "    <tr>\n",
       "      <th>TCGA-05-4250-01</th>\n",
       "      <td>0.0</td>\n",
       "      <td>7.2453</td>\n",
       "      <td>6.0184</td>\n",
       "      <td>49.5366</td>\n",
       "      <td>1140.680</td>\n",
       "      <td>0.0</td>\n",
       "      <td>51.7284</td>\n",
       "      <td>0.0000</td>\n",
       "      <td>0.0000</td>\n",
       "      <td>0.0000</td>\n",
       "      <td>...</td>\n",
       "      <td>520.899</td>\n",
       "      <td>1046.840</td>\n",
       "      <td>60.0182</td>\n",
       "      <td>365.415</td>\n",
       "      <td>843.903</td>\n",
       "      <td>26.5274</td>\n",
       "      <td>475.172</td>\n",
       "      <td>5437.45</td>\n",
       "      <td>1170.52</td>\n",
       "      <td>532.869</td>\n",
       "    </tr>\n",
       "    <tr>\n",
       "      <th>TCGA-05-4382-01</th>\n",
       "      <td>0.0</td>\n",
       "      <td>11.3311</td>\n",
       "      <td>7.5740</td>\n",
       "      <td>82.8303</td>\n",
       "      <td>807.173</td>\n",
       "      <td>0.0</td>\n",
       "      <td>240.0220</td>\n",
       "      <td>0.4786</td>\n",
       "      <td>0.2393</td>\n",
       "      <td>7.6577</td>\n",
       "      <td>...</td>\n",
       "      <td>429.630</td>\n",
       "      <td>753.090</td>\n",
       "      <td>40.4424</td>\n",
       "      <td>346.752</td>\n",
       "      <td>946.687</td>\n",
       "      <td>64.8514</td>\n",
       "      <td>908.159</td>\n",
       "      <td>6770.15</td>\n",
       "      <td>1169.24</td>\n",
       "      <td>663.830</td>\n",
       "    </tr>\n",
       "    <tr>\n",
       "      <th>TCGA-05-4384-01</th>\n",
       "      <td>0.0</td>\n",
       "      <td>3.2254</td>\n",
       "      <td>3.4942</td>\n",
       "      <td>72.5351</td>\n",
       "      <td>562.004</td>\n",
       "      <td>0.0</td>\n",
       "      <td>274.2820</td>\n",
       "      <td>0.6109</td>\n",
       "      <td>0.0000</td>\n",
       "      <td>0.0000</td>\n",
       "      <td>...</td>\n",
       "      <td>258.302</td>\n",
       "      <td>153.940</td>\n",
       "      <td>80.0244</td>\n",
       "      <td>563.225</td>\n",
       "      <td>1320.710</td>\n",
       "      <td>7.9414</td>\n",
       "      <td>778.864</td>\n",
       "      <td>3341.48</td>\n",
       "      <td>1737.32</td>\n",
       "      <td>723.274</td>\n",
       "    </tr>\n",
       "  </tbody>\n",
       "</table>\n",
       "<p>5 rows × 20191 columns</p>\n",
       "</div>"
      ],
      "text/plain": [
       "Entrez_Gene_Id   100130426  100133144  100134869  10357      10431      \\\n",
       "TCGA-05-4244-01        0.0    10.0113    11.2820    49.5994    848.940   \n",
       "TCGA-05-4249-01        0.0     7.1957    12.4436    90.5117    924.016   \n",
       "TCGA-05-4250-01        0.0     7.2453     6.0184    49.5366   1140.680   \n",
       "TCGA-05-4382-01        0.0    11.3311     7.5740    82.8303    807.173   \n",
       "TCGA-05-4384-01        0.0     3.2254     3.4942    72.5351    562.004   \n",
       "\n",
       "Entrez_Gene_Id   136542     155060     26823      280660     340602     ...  \\\n",
       "TCGA-05-4244-01        0.0   345.2310     1.0472     0.0000     0.0000  ...   \n",
       "TCGA-05-4249-01        0.0   145.2020     1.6098     0.0000     0.0000  ...   \n",
       "TCGA-05-4250-01        0.0    51.7284     0.0000     0.0000     0.0000  ...   \n",
       "TCGA-05-4382-01        0.0   240.0220     0.4786     0.2393     7.6577  ...   \n",
       "TCGA-05-4384-01        0.0   274.2820     0.6109     0.0000     0.0000  ...   \n",
       "\n",
       "Entrez_Gene_Id   55055      11130      7789       158586     79364      \\\n",
       "TCGA-05-4244-01    221.164    517.672    39.7940    292.521    959.246   \n",
       "TCGA-05-4249-01    198.589    287.507    62.1376    493.560   1179.330   \n",
       "TCGA-05-4250-01    520.899   1046.840    60.0182    365.415    843.903   \n",
       "TCGA-05-4382-01    429.630    753.090    40.4424    346.752    946.687   \n",
       "TCGA-05-4384-01    258.302    153.940    80.0244    563.225   1320.710   \n",
       "\n",
       "Entrez_Gene_Id   440590     79699      7791       23140      26009      \n",
       "TCGA-05-4244-01     0.6981   1088.050    2837.94     871.28    575.268  \n",
       "TCGA-05-4249-01    20.2833    787.506    2351.25    1138.12    690.275  \n",
       "TCGA-05-4250-01    26.5274    475.172    5437.45    1170.52    532.869  \n",
       "TCGA-05-4382-01    64.8514    908.159    6770.15    1169.24    663.830  \n",
       "TCGA-05-4384-01     7.9414    778.864    3341.48    1737.32    723.274  \n",
       "\n",
       "[5 rows x 20191 columns]"
      ]
     },
     "execution_count": 26,
     "metadata": {},
     "output_type": "execute_result"
    }
   ],
   "source": [
    "#need to drop the 340 columns with same vals\n",
    "df_clean = rna_clean.drop(same_value_cols, axis = 1)\n",
    "df_clean.head()"
   ]
  },
  {
   "cell_type": "markdown",
   "id": "293ac38a",
   "metadata": {},
   "source": [
    "## Clustering mRNA data"
   ]
  },
  {
   "cell_type": "code",
   "execution_count": 22,
   "id": "f46e66a2",
   "metadata": {},
   "outputs": [],
   "source": [
    "import umap\n",
    "import seaborn as sns"
   ]
  },
  {
   "cell_type": "code",
   "execution_count": 27,
   "id": "89d524f2",
   "metadata": {},
   "outputs": [
    {
     "data": {
      "text/plain": [
       "Index(['TCGA-05-4244-01', 'TCGA-05-4249-01', 'TCGA-05-4250-01',\n",
       "       'TCGA-05-4382-01', 'TCGA-05-4384-01', 'TCGA-05-4389-01',\n",
       "       'TCGA-05-4390-01', 'TCGA-05-4395-01', 'TCGA-05-4396-01',\n",
       "       'TCGA-05-4397-01',\n",
       "       ...\n",
       "       'TCGA-NJ-A4YG-01', 'TCGA-NJ-A4YI-01', 'TCGA-NJ-A4YP-01',\n",
       "       'TCGA-NJ-A4YQ-01', 'TCGA-NJ-A55A-01', 'TCGA-NJ-A55O-01',\n",
       "       'TCGA-NJ-A55R-01', 'TCGA-NJ-A7XG-01', 'TCGA-O1-A52J-01',\n",
       "       'TCGA-S2-AA1A-01'],\n",
       "      dtype='object', length=510)"
      ]
     },
     "execution_count": 27,
     "metadata": {},
     "output_type": "execute_result"
    }
   ],
   "source": [
    "df_clean.index"
   ]
  },
  {
   "cell_type": "code",
   "execution_count": 28,
   "id": "0e1594c4",
   "metadata": {},
   "outputs": [],
   "source": [
    "data_gene = sc.AnnData(df_clean)"
   ]
  },
  {
   "cell_type": "code",
   "execution_count": 37,
   "id": "f1c884f4",
   "metadata": {},
   "outputs": [
    {
     "data": {
      "text/plain": [
       "Index(['100130426', '100133144', '100134869', '10357', '10431', '136542',\n",
       "       '155060', '26823', '280660', '340602',\n",
       "       ...\n",
       "       '55055', '11130', '7789', '158586', '79364', '440590', '79699', '7791',\n",
       "       '23140', '26009'],\n",
       "      dtype='object', name='Entrez_Gene_Id', length=20191)"
      ]
     },
     "execution_count": 37,
     "metadata": {},
     "output_type": "execute_result"
    }
   ],
   "source": [
    "data_gene.var_names"
   ]
  },
  {
   "cell_type": "code",
   "execution_count": 42,
   "id": "c8bbd680",
   "metadata": {},
   "outputs": [
    {
     "data": {
      "text/plain": [
       "Index([], dtype='object')"
      ]
     },
     "execution_count": 42,
     "metadata": {},
     "output_type": "execute_result"
    }
   ],
   "source": [
    "data_gene.obs.columns"
   ]
  },
  {
   "cell_type": "code",
   "execution_count": 29,
   "id": "2e9cce11",
   "metadata": {},
   "outputs": [
    {
     "name": "stdout",
     "output_type": "stream",
     "text": [
      "normalizing counts per cell\n",
      "    finished (0:00:00)\n"
     ]
    },
    {
     "data": {
      "image/png": "[encoded data removed]",
      "text/plain": [
       "<Figure size 360x396 with 1 Axes>"
      ]
     },
     "metadata": {
      "image/png": {
       "height": 362,
       "width": 366
      },
      "needs_background": "light"
     },
     "output_type": "display_data"
    }
   ],
   "source": [
    "sc.pl.highest_expr_genes(data_gene, n_top=20, )\n",
    "#Show those genes that yield the highest fraction of counts in each single cell, across all cells."
   ]
  },
  {
   "cell_type": "markdown",
   "id": "32dbb386",
   "metadata": {},
   "source": [
    "### Summary of highest count genes (n=5) (source: www.ncbi.nlm.nih.gov/gene/)"
   ]
  },
  {
   "cell_type": "markdown",
   "id": "55cc3aa5",
   "metadata": {},
   "source": [
    "#### 6439: This gene encodes the pulmonary-associated surfactant protein B (SPB), an amphipathic surfactant protein essential for lung function and homeostasis after birth. Pulmonary surfactant is a surface-active lipoprotein complex composed of 90% lipids and 10% proteins which include plasma proteins and apolipoproteins SPA, SPB, SPC and SPD. The surfactant is secreted by the alveolar cells of the lung and maintains the stability of pulmonary tissue by reducing the surface tension of fluids that coat the lung. The SPB enhances the rate of spreading and increases the stability of surfactant monolayers in vitro. Multiple mutations in this gene have been identified, which cause pulmonary surfactant metabolism dysfunction type 1, also called pulmonary alveolar proteinosis due to surfactant protein B deficiency, and are associated with fatal respiratory distress in the neonatal period. Alternatively spliced transcript variants encoding the same protein have been identified.[provided by RefSeq, Feb 2010]"
   ]
  },
  {
   "cell_type": "markdown",
   "id": "2bc0e7ea",
   "metadata": {},
   "source": [
    "#### 8755: Predicted to be located in external side of plasma membrane and sperm head plasma membrane. Predicted to be part of protein-containing complex. ** interesting as this is associated with testicular issues"
   ]
  },
  {
   "cell_type": "markdown",
   "id": "555be713",
   "metadata": {},
   "source": [
    "#### 60: This gene encodes one of six different actin proteins. Actins are highly conserved proteins that are involved in cell motility, structure, integrity, and intercellular signaling. The encoded protein is a major constituent of the contractile apparatus and one of the two nonmuscle cytoskeletal actins that are ubiquitously expressed. Mutations in this gene cause Baraitser-Winter syndrome 1, which is characterized by intellectual disability with a distinctive facial appearance in human patients. Numerous pseudogenes of this gene have been identified throughout the human genome."
   ]
  },
  {
   "cell_type": "markdown",
   "id": "bf0d560c",
   "metadata": {},
   "source": [
    "#### 2512: This gene encodes the light subunit of the ferritin protein. Ferritin is the major intracellular iron storage protein in prokaryotes and eukaryotes. It is composed of 24 subunits of the heavy and light ferritin chains. Variation in ferritin subunit composition may affect the rates of iron uptake and release in different tissues. A major function of ferritin is the storage of iron in a soluble and nontoxic state. Defects in this light chain ferritin gene are associated with several neurodegenerative diseases and hyperferritinemia-cataract syndrome. This gene has multiple pseudogenes."
   ]
  },
  {
   "cell_type": "markdown",
   "id": "e8aafcbc",
   "metadata": {},
   "source": [
    "#### 729238: This gene is one of several genes encoding pulmonary-surfactant associated proteins (SFTPA) located on chromosome 10. Mutations in this gene and a highly similar gene located nearby, which affect the highly conserved carbohydrate recognition domain, are associated with idiopathic pulmonary fibrosis. The current version of the assembly displays only a single centromeric SFTPA gene pair rather than the two gene pairs shown in the previous assembly which were thought to have resulted from a duplication. "
   ]
  },
  {
   "cell_type": "code",
   "execution_count": 32,
   "id": "1200df30",
   "metadata": {},
   "outputs": [
    {
     "name": "stdout",
     "output_type": "stream",
     "text": [
      "computing PCA\n",
      "    with n_comps=50\n",
      "    finished (0:00:01)\n",
      "computing neighbors\n",
      "    using 'X_pca' with n_pcs = 50\n",
      "    finished: added to `.uns['neighbors']`\n",
      "    `.obsp['distances']`, distances for each pair of neighbors\n",
      "    `.obsp['connectivities']`, weighted adjacency matrix (0:00:05)\n",
      "computing UMAP\n",
      "    finished: added\n",
      "    'X_umap', UMAP coordinates (adata.obsm) (0:00:01)\n"
     ]
    }
   ],
   "source": [
    "sc.tl.pca(data_gene, svd_solver='arpack')\n",
    "sc.pp.neighbors(data_gene, n_neighbors=30, n_pcs=50)\n",
    "sc.tl.umap(data_gene, min_dist=0.3)"
   ]
  },
  {
   "cell_type": "code",
   "execution_count": 33,
   "id": "63ca18f1",
   "metadata": {},
   "outputs": [
    {
     "data": {
      "image/png": "[encoded data removed]",
      "text/plain": [
       "<Figure size 432x288 with 1 Axes>"
      ]
     },
     "metadata": {
      "image/png": {
       "height": 257,
       "width": 368
      }
     },
     "output_type": "display_data"
    }
   ],
   "source": [
    "sc.pl.umap(data_gene) #note: can't seem to color by Entrez_Gene_Id, so unsure if this umap is incorrect"
   ]
  },
  {
   "cell_type": "code",
   "execution_count": 47,
   "id": "68bde2b4",
   "metadata": {},
   "outputs": [],
   "source": [
    "#sc.pl.pca(data_gene, color = ['Entrez_Gene_Id'])"
   ]
  },
  {
   "cell_type": "code",
   "execution_count": null,
   "id": "f05da952",
   "metadata": {},
   "outputs": [],
   "source": []
  },
  {
   "cell_type": "code",
   "execution_count": null,
   "id": "590d54cd",
   "metadata": {},
   "outputs": [],
   "source": []
  }
 ],
 "metadata": {
  "kernelspec": {
   "display_name": "Python 3 (ipykernel)",
   "language": "python",
   "name": "python3"
  },
  "language_info": {
   "codemirror_mode": {
    "name": "ipython",
    "version": 3
   },
   "file_extension": ".py",
   "mimetype": "text/x-python",
   "name": "python",
   "nbconvert_exporter": "python",
   "pygments_lexer": "ipython3",
   "version": "3.9.12"
  }
 },
 "nbformat": 4,
 "nbformat_minor": 5
}
